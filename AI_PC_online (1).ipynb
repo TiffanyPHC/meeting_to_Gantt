{
  "nbformat": 4,
  "nbformat_minor": 0,
  "metadata": {
    "colab": {
      "provenance": []
    },
    "kernelspec": {
      "name": "python3",
      "display_name": "Python 3"
    },
    "language_info": {
      "name": "python"
    }
  },
  "cells": [
    {
      "cell_type": "code",
      "source": [
        "import os\n",
        "import base64\n",
        "from openai import OpenAI\n",
        "\n",
        "from PIL import Image\n",
        "from io import BytesIO\n",
        "import random\n"
      ],
      "metadata": {
        "id": "9PAYA8jkPxCt"
      },
      "execution_count": 1,
      "outputs": []
    },
    {
      "cell_type": "code",
      "source": [
        "meeting_text = \"\"\"\n",
        "李協理：\n",
        "好的，時間到了。我們今天討論的重點是這篇來自ICLR 2025的論文《Efficient Action-Constrained RL via ARAM》。我們要討論其架構是否適用於我們目前的AGV路徑規劃與臂控系統。我們會有三位同仁各自報告5分鐘，接著兩位成員提出問題。那我們就請陳工開始。\n",
        "\n",
        "第一位報告人：陳資深工程師（14:00-14:05）\n",
        "\n",
        "陳工程師：\n",
        "這篇論文的核心是「ARAM」，也就是「Acceptance-Rejection with Augmented MDP」的簡稱。傳統在行為受限的強化學習中，要不是依賴QP求解、就是用生成模型做後處理。而ARAM引入一個更輕量的機制，從無約束策略中先採樣，再檢查是否合法行為，若不合法則reject。這種accept-reject策略實作起來其實非常適合我們在產線上的小型移動機器人，尤其是那些要遵守轉角、速度或負載限制的模組。\n",
        "\n",
        "更進一步，為了提高accept rate，他們提出augmented MDP：若違反constraint，會在狀態轉移中加一個self-loop並給予懲罰，這樣policy自然會學會避開那些常被reject的行為。整體結構可以套用在我們現有的SAC或DDPG架構上，只需改改buffer結構跟reward設計即可。\n",
        "\n",
        "提問一：黃助理工程師\n",
        "那陳哥，我有點疑問，我們目前的控制是離散動作空間，這個accept-reject方法會不會太慢？會不會採樣一堆無效動作導致inference latency變長？\n",
        "\n",
        "陳工程師：\n",
        "這點其實論文有提到，在他們的Reacher和HalfCheetah實驗中，ARAM推論時間是所有方法最短的，原因是它幾乎不用QP。再者，如果是離散動作，只需要判斷合法與否，不像連續動作還要計算機率密度，比想像中快。\n",
        "\n",
        "提問二：李協理\n",
        "那這個懲罰設計會不會導致我們policy太保守？例如擔心違規而不敢探索？\n",
        "\n",
        "陳工程師：\n",
        "他們用了multi-objective設計，權重是可學的，用MORL框架來解這問題，我們可以選擇不同λ平衡 reward 跟 constraint violation。必要時也可以針對特定場域進行λ tuning。\n",
        "\n",
        "第二位報告人：張研究員（14:05-14:10）\n",
        "\n",
        "張研究員：\n",
        "我這邊補充ARAM在實作層面的設計。它採用兩個buffer：一個是合法transition的replay buffer，另一個是違規後loop的transition。這種結構非常像我們之前在做constraint-aware imitation learning時遇到的記憶共享問題。ARAM還加入了snapshot buffer，也就是MOSAC的Q Pensieve結構，讓不同行為偏好之間能共享學習記憶，這樣可顯著提升sample efficiency。\n",
        "\n",
        "我認為這個架構對我們要解的多約束（如關節扭力＋視覺遮擋區域避障）問題，是很有幫助的。尤其是這種架構完全不需要我們設計新的projection operator，可以直接拿現成SAC加上accept-reject包裝，效能也比FlowPG或NFWPO來得穩定。\n",
        "\n",
        "提問一：劉工程師\n",
        "那張哥，我想問，這套方法有提到怎麼選accept-reject時的target distribution嗎？會不會選得不好導致學不到東西？\n",
        "\n",
        "張研究員：\n",
        "好問題。原文中有提一種策略是直接設π† ∝ π原始 restricted to feasible set，並且使用Student-t分布來增加探索性。實驗顯示這種選法對early stage exploration特別有幫助，而且不敏感於具體參數設定。\n",
        "\n",
        "提問二：黃助理工程師\n",
        "那這樣的multi-objective實作，會不會讓訓練時間大增？\n",
        "\n",
        "張研究員：\n",
        "他們的結果顯示即使是MORL架構，ARAM的training time比所有需要QP的方法都少兩到五個數量級。主因是QP次數幾乎是零，而且並行性高。\n",
        "\n",
        "第三位報告人：劉工程師（14:10-14:15）\n",
        "\n",
        "劉工程師：\n",
        "我這邊聚焦在實驗結果上面，特別是可行性比例和推論效率。論文裡面提到，ARAM在所有MuJoCo與網路資源分配任務中都有最高的valid action rate，甚至在Ant環境達到100%。這代表這套方法不只訓練效率高，實際部署時也最穩。\n",
        "\n",
        "另外他們針對inference latency測試100萬次推論，每次行為選擇平均花費44~63毫秒，比FlowPG或DPre+都快很多。而我們現在AGV推論速度目標是在50ms內，這是能達到的。更重要的是，ARAM方法完全移除掉前處理QP這件事，會讓我們整體部署架構更乾淨、維護性更高。\n",
        "\n",
        "提問一：張研究員\n",
        "那你覺得我們現有的路徑規劃模組要導入ARAM最需要調整的是哪一塊？\n",
        "\n",
        "劉工程師：\n",
        "主要是reward設計跟constraint check要能獨立模組化，這樣我們才能讓accept-reject模組做動作篩選。Policy結構可以保留我們原來的。\n",
        "\n",
        "提問二：李協理\n",
        "如果要做demo，大概要多久能初步整合進我們的開源控制平台？\n",
        "\n",
        "劉工程師：\n",
        "我保守估計兩週可以弄一版可跑demo的。因為架構簡單，難的是驗證我們實際的constraint設計是不是容易被學習到，這需要一點調參。\n",
        "\n",
        "總結（14:15-14:20）\n",
        "\n",
        "李協理：\n",
        "感謝三位報告，也感謝大家的問題。結論是這套ARAM方法適合我們行為受限控制需求，特別是低計算負擔與部署簡潔性這兩點非常關鍵。請張工、劉工先開一個技術導入專案，7月中前給我一個demo評估結果。會議到此結束。\n",
        "\"\"\"\n",
        "with open(\"meeting.txt\", \"w\", encoding=\"utf-8\") as f:\n",
        "    f.write(meeting_text)\n"
      ],
      "metadata": {
        "id": "K8UgRZWBa49L"
      },
      "execution_count": 2,
      "outputs": []
    },
    {
      "cell_type": "code",
      "source": [
        "from google.colab import userdata\n",
        "\n",
        "print(userdata.get(\"OPENAI_API_KEY\"))"
      ],
      "metadata": {
        "id": "ywfiU9oSU9Hm"
      },
      "execution_count": null,
      "outputs": []
    },
    {
      "cell_type": "code",
      "source": [
        "import os, re, json\n",
        "from datetime import datetime, timedelta\n",
        "from textwrap import dedent\n",
        "from openai import OpenAI\n",
        "\n",
        "MODEL = \"gpt-4o-mini\"\n",
        "START_DATE = \"2025-09-01\"\n",
        "TITLE = \"會議任務 → 甘特圖\"\n",
        "\n",
        "def read_minutes_txt(path: str) -> str:\n",
        "    with open(path, \"r\", encoding=\"utf-8\") as f:\n",
        "        return f.read()\n",
        "\n",
        "def build_prompt_from_minutes(minutes_text: str) -> str:\n",
        "    return dedent(f\"\"\"\n",
        "    你是一位專案排程助理。請閱讀以下會議記錄，抽取目標(goals)、任務(tasks)、工期(duration_days)與依賴(depends_on)，並標示關鍵路徑。\n",
        "    僅輸出**單一 JSON**，不要額外文字或 Markdown。\n",
        "\n",
        "    會議記錄：\n",
        "    \\\"\\\"\\\"{minutes_text.strip()}\\\"\\\"\\\"\n",
        "\n",
        "    範例輸出結構：\n",
        "    {{\n",
        "      \"goals\": [{{\"id\":\"G1\",\"name\":\"本週重點\"}}],\n",
        "      \"tasks\": [\n",
        "        {{\"id\":\"T1\",\"name\":\"API 串接\",\"goal_id\":\"G1\",\"duration_days\":3,\"depends_on\":[]}},\n",
        "        {{\"id\":\"T2\",\"name\":\"CI/CD 配置\",\"goal_id\":\"G1\",\"duration_days\":2,\"depends_on\":[\"T1\"]}}\n",
        "      ],\n",
        "      \"critical_path\": [\"T1\",\"T2\"]\n",
        "    }}\n",
        "    \"\"\")\n",
        "\n",
        "def call_openai(prompt: str) -> str:\n",
        "    client = OpenAI(\n",
        "        api_key=userdata.get(\"OPENAI_API_KEY\"),\n",
        "        # base_url=\"http://127.0.0.1/v1.0/\"\n",
        "    )\n",
        "    resp = client.chat.completions.create(\n",
        "        # model=\".bot/Llama 3.2 3B @NPU\"#MODEL,\n",
        "        model=MODEL,\n",
        "        messages=[{\"role\": \"system\", \"content\": \"只輸出 JSON\"},\n",
        "                  {\"role\": \"user\", \"content\": prompt}],\n",
        "        max_tokens=1000,\n",
        "        temperature=0.2\n",
        "    )\n",
        "    return resp.choices[0].message.content\n",
        "\n",
        "def extract_json(text: str) -> dict:\n",
        "    m = re.search(r\"(\\{.*\\})\", text, flags=re.S)\n",
        "    if not m:\n",
        "        raise ValueError(\"沒找到 JSON\")\n",
        "    return json.loads(m.group(1))\n",
        "\n",
        "def schedule(tasks: list) -> dict:\n",
        "    t_by_id = {t[\"id\"]: t for t in tasks}\n",
        "    starts, ends = {}, {}\n",
        "\n",
        "    def dfs(tid):\n",
        "        if tid in ends:\n",
        "            return ends[tid]\n",
        "        deps = t_by_id[tid].get(\"depends_on\", [])\n",
        "        start = 0\n",
        "        for d in deps:\n",
        "            start = max(start, dfs(d))\n",
        "        dur = int(max(1, t_by_id[tid].get(\"duration_days\", 1)))\n",
        "        starts[tid] = start\n",
        "        ends[tid] = start + dur\n",
        "        return ends[tid]\n",
        "\n",
        "    for tid in t_by_id:\n",
        "        dfs(tid)\n",
        "    return {\"start\": starts, \"end\": ends}\n",
        "\n",
        "def to_mermaid(goals, tasks, sched, title, start_date):\n",
        "    base = datetime.strptime(start_date, \"%Y-%m-%d\")\n",
        "    goal_name = {g[\"id\"]: g[\"name\"] for g in goals}\n",
        "    lines = [\"gantt\", \"dateFormat  YYYY-MM-DD\", f\"title {title}\"]\n",
        "    for g in goals:\n",
        "        lines.append(f\"section {g['name']}\")\n",
        "        for t in tasks:\n",
        "            if t[\"goal_id\"] != g[\"id\"]:\n",
        "                continue\n",
        "            s = sched[\"start\"][t[\"id\"]]\n",
        "            dur = t[\"duration_days\"]\n",
        "            start_date_iso = (base + timedelta(days=s)).strftime(\"%Y-%m-%d\")\n",
        "            lines.append(f\"{t['name']} :{t['id']}, {start_date_iso}, {dur}d\")\n",
        "    return \"\\n\".join(lines)\n",
        "\n",
        "def convert_mermaid_to_csv_with_chatgpt(mermaid_text: str, model: str = \"gpt-4o-mini\"):\n",
        "    api_key = userdata.get(\"OPENAI_API_KEY\")\n",
        "    # if not api_key:\n",
        "    #     raise RuntimeError(\"未找到 OPENAI_API_KEY。請先在環境變數設定。\")\n",
        "\n",
        "    client = OpenAI(api_key=api_key)\n",
        "    # client = OpenAI(\n",
        "    #     api_key=userdata.get(\"OPENAI_API_KEY\"),\n",
        "    #     base_url=\"http://127.0.0.1/v1.0/\"\n",
        "    # )\n",
        "    user_prompt = USER_PROMPT_TEMPLATE.format(mermaid=mermaid_text)\n",
        "\n",
        "    # 使用 Responses API\n",
        "    resp = client.responses.create(\n",
        "        model=model,\n",
        "    # resp = client.chat.completions.create(\n",
        "    #     model=\".bot/Llama 3.2 3B @NPU\",#MODEL,\n",
        "        input=[\n",
        "            {\"role\": \"system\", \"content\": SYSTEM_PROMPT},\n",
        "            {\"role\": \"user\", \"content\": user_prompt},\n",
        "        ],\n",
        "        # temperature=0.0,\n",
        "    )\n",
        "\n",
        "    # 取出文字輸出\n",
        "    content = resp.output_text if hasattr(resp, \"output_text\") else resp.choices[0].message.content\n",
        "    # 去掉前後空白\n",
        "    return content.strip()\n"
      ],
      "metadata": {
        "id": "q__T0YkZTdPW"
      },
      "execution_count": 4,
      "outputs": []
    },
    {
      "cell_type": "code",
      "source": [
        "SYSTEM_PROMPT = \"\"\"你是一個格式轉換器。把 Mermaid Gantt 語法轉換成 CSV（UTF-8, 逗號分隔）。\n",
        "只輸出 CSV 內容，不要任何多餘解釋或前後綴。\n",
        "CSV 欄位固定為：名稱,開始時間,結束時間,專案分類\n",
        "規則：\n",
        "- 從 `section <名稱>` 取得「專案分類」，直到下一個 section 前的任務都屬於該分類。\n",
        "- 任務行格式類似：`任務名稱 :ID, YYYY-MM-DD, Nd` 或 `任務名稱 :YYYY-MM-DD, Nd`。\n",
        "- 日期格式輸出為 YYYY-MM-DD（不含時間）。\n",
        "- 若給的是開始日 + 持續天數 Nd，結束日 = 開始日 + (N-1) 天（含起訖）。\n",
        "- 任務名稱輸出到「名稱」欄。\n",
        "- 沒有 section 時，「專案分類」留空字串。\n",
        "- 只產生資料列，不要加 CSV 標頭以外的任何文字。\n",
        "\"\"\"\n",
        "\n",
        "USER_PROMPT_TEMPLATE = \"\"\"以下是 Mermaid Gantt 文字，請依規則轉成 CSV：\n",
        "{mermaid}\n",
        "請以這個 CSV 標頭開頭（務必包含、且順序固定）：\n",
        "名稱,開始時間,結束時間,專案分類\n",
        "\"\"\""
      ],
      "metadata": {
        "id": "kH0zESknvJWZ"
      },
      "execution_count": 5,
      "outputs": []
    },
    {
      "cell_type": "code",
      "source": [
        "# === 主流程 ===\n",
        "minutes = read_minutes_txt(\"meeting.txt\")\n",
        "prompt = build_prompt_from_minutes(minutes)\n",
        "raw = call_openai(prompt)\n",
        "data = extract_json(raw)\n",
        "\n",
        "sched = schedule(data[\"tasks\"])\n",
        "mermaid = to_mermaid(data[\"goals\"], data[\"tasks\"], sched, TITLE, START_DATE)\n",
        "\n",
        "print(\"=== Mermaid 甘特圖 ===\")\n",
        "print(mermaid)\n",
        "\n",
        "csv = convert_mermaid_to_csv_with_chatgpt(mermaid)\n",
        "print(csv)\n"
      ],
      "metadata": {
        "colab": {
          "base_uri": "https://localhost:8080/"
        },
        "id": "5GqoMWENWNXJ",
        "outputId": "5ca8b230-f767-4500-9d76-4710b1e10fab"
      },
      "execution_count": 6,
      "outputs": [
        {
          "output_type": "stream",
          "name": "stdout",
          "text": [
            "=== Mermaid 甘特圖 ===\n",
            "gantt\n",
            "dateFormat  YYYY-MM-DD\n",
            "title 會議任務 → 甘特圖\n",
            "section 技術導入專案\n",
            "整合ARAM方法進入開源控制平台 :T1, 2025-09-01, 14d\n",
            "驗證constraint設計 :T2, 2025-09-15, 7d\n",
            "名稱,開始時間,結束時間,專案分類\n",
            "整合ARAM方法進入開源控制平台,2025-09-01,2025-09-14,技術導入專案\n",
            "驗證constraint設計,2025-09-15,2025-09-21,技術導入專案\n"
          ]
        }
      ]
    },
    {
      "cell_type": "code",
      "source": [
        "def save_csv(csv_text: str, output_path: str = \"notion_gantt.csv\"):\n",
        "    # 確保有換行結尾，避免某些工具讀取最後一列時被忽略\n",
        "    if not csv_text.endswith(\"\\n\"):\n",
        "        csv_text += \"\\n\"\n",
        "    with open(output_path, \"w\", encoding=\"utf-8\", newline=\"\") as f:\n",
        "        f.write(csv_text)\n",
        "    print(f\"✅ 已輸出 CSV：{os.path.abspath(output_path)}\")\n",
        "save_csv(csv)"
      ],
      "metadata": {
        "colab": {
          "base_uri": "https://localhost:8080/"
        },
        "id": "vVClP6R-0VF5",
        "outputId": "463b7df6-b8c7-48cc-c91a-3acde84eae4f"
      },
      "execution_count": 7,
      "outputs": [
        {
          "output_type": "stream",
          "name": "stdout",
          "text": [
            "✅ 已輸出 CSV：/content/notion_gantt.csv\n"
          ]
        }
      ]
    },
    {
      "cell_type": "code",
      "source": [],
      "metadata": {
        "id": "TqIILzL09hqi"
      },
      "execution_count": 7,
      "outputs": []
    }
  ]
}